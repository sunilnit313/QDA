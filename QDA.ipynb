{
 "cells": [
  {
   "cell_type": "code",
   "execution_count": 39,
   "metadata": {},
   "outputs": [],
   "source": [
    "from sklearn.discriminant_analysis import QuadraticDiscriminantAnalysis\n",
    "import numpy as np"
   ]
  },
  {
   "cell_type": "code",
   "execution_count": 40,
   "metadata": {},
   "outputs": [],
   "source": [
    "#x_axis=[Speed, population Density]\n",
    "#y_axos=Accidents binary"
   ]
  },
  {
   "cell_type": "code",
   "execution_count": 41,
   "metadata": {},
   "outputs": [],
   "source": [
    "x=np.array([\n",
    "    [100,1000], [100,2000], [100, 3000], [100, 4000],[100, 5000],\n",
    "           [80,1000], [80,2000], [80, 3000], [80, 4000],[80, 5000],\n",
    "           [60,1000], [60,2000], [60, 3000], [60, 4000],[60, 5000],\n",
    "           [20,1000], [20,2000], [20, 3000], [20, 4000],[20, 5000],\n",
    "           [0,1000], [0,2000], [0, 3000], [0, 4000],[0, 5000]])"
   ]
  },
  {
   "cell_type": "code",
   "execution_count": 42,
   "metadata": {},
   "outputs": [],
   "source": [
    "y=np.array([\n",
    "    2, 2, 2, 2, 2,\n",
    "        1, 1, 2, 2, 2,\n",
    "        1, 1, 1, 2, 2,\n",
    "        1, 1, 1, 1, 1,\n",
    "        1, 1, 1, 1, 1,\n",
    "])"
   ]
  },
  {
   "cell_type": "markdown",
   "metadata": {},
   "source": []
  },
  {
   "cell_type": "code",
   "execution_count": 43,
   "metadata": {},
   "outputs": [
    {
     "data": {
      "text/plain": [
       "QuadraticDiscriminantAnalysis()"
      ]
     },
     "execution_count": 43,
     "metadata": {},
     "output_type": "execute_result"
    }
   ],
   "source": [
    "model_object= QuadraticDiscriminantAnalysis()\n",
    "model_object.fit(x, y)"
   ]
  },
  {
   "cell_type": "code",
   "execution_count": 64,
   "metadata": {},
   "outputs": [
    {
     "name": "stdout",
     "output_type": "stream",
     "text": [
      "*\n"
     ]
    }
   ],
   "source": [
    "speedLimit=0\n",
    "PopulationDensity=1000\n",
    "prediction=model_object.predict([[speedLimit, PopulationDensity]])\n",
    "print(\"*\")"
   ]
  },
  {
   "cell_type": "code",
   "execution_count": 66,
   "metadata": {},
   "outputs": [
    {
     "name": "stdout",
     "output_type": "stream",
     "text": [
      "for speed 0 and population densisty of 1000 Aera would safe\n"
     ]
    }
   ],
   "source": [
    "if(prediction==2):\n",
    "    print(\"for speed limit of \"+ str(speedLimit)+\" and population densisty of \"+ str(PopulationDensity)+\"Aera would not safe\")\n",
    "else:\n",
    "        print(\"for speed \"+ str(speedLimit)+\" and population densisty of \"+ str(PopulationDensity)+\" Aera would safe\")"
   ]
  },
  {
   "cell_type": "code",
   "execution_count": null,
   "metadata": {},
   "outputs": [],
   "source": []
  },
  {
   "cell_type": "code",
   "execution_count": null,
   "metadata": {},
   "outputs": [],
   "source": []
  }
 ],
 "metadata": {
  "kernelspec": {
   "display_name": "Python 3",
   "language": "python",
   "name": "python3"
  },
  "language_info": {
   "codemirror_mode": {
    "name": "ipython",
    "version": 3
   },
   "file_extension": ".py",
   "mimetype": "text/x-python",
   "name": "python",
   "nbconvert_exporter": "python",
   "pygments_lexer": "ipython3",
   "version": "3.8.5"
  }
 },
 "nbformat": 4,
 "nbformat_minor": 4
}
